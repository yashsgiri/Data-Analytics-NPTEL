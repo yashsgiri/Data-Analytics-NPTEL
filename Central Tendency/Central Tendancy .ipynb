{
 "cells": [
  {
   "cell_type": "code",
   "execution_count": 1,
   "id": "f7b42139",
   "metadata": {},
   "outputs": [],
   "source": [
    "import pandas as pd\n",
    "import numpy as np"
   ]
  },
  {
   "cell_type": "code",
   "execution_count": 4,
   "id": "435e9806",
   "metadata": {
    "scrolled": true
   },
   "outputs": [
    {
     "name": "stdout",
     "output_type": "stream",
     "text": [
      "    S.No.  MTE (25)  Mini Project (25)  Total (50)  ETE (50)  Total\n",
      "0       1      5.00                 20       25.00      12.0  37.00\n",
      "1       2     11.05                 20       31.05      26.0  57.05\n",
      "2       3      8.10                 20       28.10      14.0  42.10\n",
      "3       4      6.00                 10       16.00      13.0  29.00\n",
      "4       5     11.35                 20       31.35      17.0  48.35\n",
      "..    ...       ...                ...         ...       ...    ...\n",
      "74     75     12.05                 10       22.05      20.0  42.05\n",
      "75     76     12.25                 10       22.25      28.0  50.25\n",
      "76     77      1.75                 10       11.75       NaN   0.00\n",
      "77     78      3.00                 10       13.00       NaN   0.00\n",
      "78     79      5.80                 10       15.80      12.0  27.80\n",
      "\n",
      "[79 rows x 6 columns]\n"
     ]
    }
   ],
   "source": [
    "path = \"C:/Users/Yashu/Downloads/IBM-313 Marks.xlsx\"\n",
    "table = pd.read_excel(path)\n",
    "print(table)"
   ]
  },
  {
   "cell_type": "markdown",
   "id": "2ee456bf",
   "metadata": {},
   "source": [
    "# Mean"
   ]
  },
  {
   "cell_type": "code",
   "execution_count": 8,
   "id": "23fccc2b",
   "metadata": {},
   "outputs": [
    {
     "data": {
      "text/plain": [
       "46.90632911392405"
      ]
     },
     "execution_count": 8,
     "metadata": {},
     "output_type": "execute_result"
    }
   ],
   "source": [
    "x=table['Total']\n",
    "np.mean(x)"
   ]
  },
  {
   "cell_type": "markdown",
   "id": "a3b08235",
   "metadata": {},
   "source": [
    "# Median"
   ]
  },
  {
   "cell_type": "code",
   "execution_count": 9,
   "id": "b24a733b",
   "metadata": {},
   "outputs": [
    {
     "data": {
      "text/plain": [
       "45.0"
      ]
     },
     "execution_count": 9,
     "metadata": {},
     "output_type": "execute_result"
    }
   ],
   "source": [
    "np.median(x)"
   ]
  },
  {
   "cell_type": "markdown",
   "id": "a344a037",
   "metadata": {},
   "source": [
    "# Mode"
   ]
  },
  {
   "cell_type": "code",
   "execution_count": 10,
   "id": "3b3232c1",
   "metadata": {},
   "outputs": [
    {
     "data": {
      "text/plain": [
       "ModeResult(mode=0.0, count=2)"
      ]
     },
     "execution_count": 10,
     "metadata": {},
     "output_type": "execute_result"
    }
   ],
   "source": [
    "import scipy\n",
    "from scipy import stats \n",
    "stats.mode(x)"
   ]
  },
  {
   "cell_type": "code",
   "execution_count": 11,
   "id": "18bb46e5",
   "metadata": {},
   "outputs": [
    {
     "name": "stdout",
     "output_type": "stream",
     "text": [
      "ModeResult(mode=0.0, count=2)\n"
     ]
    }
   ],
   "source": [
    "print(stats.mode(x))"
   ]
  },
  {
   "cell_type": "markdown",
   "id": "25818d03",
   "metadata": {},
   "source": [
    "# This prints the 50th percentile of an array e.g median"
   ]
  },
  {
   "cell_type": "code",
   "execution_count": 12,
   "id": "67f78223",
   "metadata": {},
   "outputs": [
    {
     "name": "stdout",
     "output_type": "stream",
     "text": [
      "3.0\n"
     ]
    }
   ],
   "source": [
    "a = np.array([1,2,3,4,5])\n",
    "p = np.percentile(a,50)\n",
    "print(p)"
   ]
  },
  {
   "cell_type": "markdown",
   "id": "8af5ac04",
   "metadata": {},
   "source": [
    "# Example for the loop"
   ]
  },
  {
   "cell_type": "code",
   "execution_count": 13,
   "id": "f917ffe4",
   "metadata": {},
   "outputs": [
    {
     "data": {
      "text/plain": [
       "['Ram', 65, 2.5]"
      ]
     },
     "execution_count": 13,
     "metadata": {},
     "output_type": "execute_result"
    }
   ],
   "source": [
    "k =['Ram',65,2.5]\n",
    "k"
   ]
  },
  {
   "cell_type": "code",
   "execution_count": 18,
   "id": "69657f49",
   "metadata": {},
   "outputs": [
    {
     "name": "stdout",
     "output_type": "stream",
     "text": [
      "Ram\n",
      "65\n",
      "2.5\n"
     ]
    }
   ],
   "source": [
    "for i in k:\n",
    "    print(i)"
   ]
  },
  {
   "cell_type": "code",
   "execution_count": 19,
   "id": "ff092bc8",
   "metadata": {},
   "outputs": [
    {
     "name": "stdout",
     "output_type": "stream",
     "text": [
      "10\n",
      "12\n",
      "14\n",
      "16\n",
      "18\n"
     ]
    }
   ],
   "source": [
    "for i in range (10,20,2):\n",
    "    print(i)"
   ]
  },
  {
   "cell_type": "code",
   "execution_count": 25,
   "id": "b33e4e13",
   "metadata": {},
   "outputs": [
    {
     "name": "stdout",
     "output_type": "stream",
     "text": [
      "10, 12, 14, 16, 18, "
     ]
    }
   ],
   "source": [
    "for i in range (10,20,2):\n",
    "    print(i,end=', ')"
   ]
  },
  {
   "cell_type": "markdown",
   "id": "e0c0f028",
   "metadata": {},
   "source": [
    "## Function in py"
   ]
  },
  {
   "cell_type": "code",
   "execution_count": 28,
   "id": "3b13232d",
   "metadata": {},
   "outputs": [
    {
     "name": "stdout",
     "output_type": "stream",
     "text": [
      "Hi Yash\n",
      "Good Evening\n"
     ]
    }
   ],
   "source": [
    "def greet():\n",
    "    print(\"Hi Yash\")\n",
    "    print(\"Good Evening\")\n",
    "\n",
    "greet()"
   ]
  },
  {
   "cell_type": "code",
   "execution_count": 29,
   "id": "833e3f5d",
   "metadata": {},
   "outputs": [
    {
     "name": "stdout",
     "output_type": "stream",
     "text": [
      "11\n"
     ]
    }
   ],
   "source": [
    "def add(p,q):\n",
    "    c = p+q\n",
    "    print(c)\n",
    "    \n",
    "add(6,5)"
   ]
  },
  {
   "cell_type": "markdown",
   "id": "4a1eee2d",
   "metadata": {},
   "source": [
    "#  Finding Minimum and Maximum Value"
   ]
  },
  {
   "cell_type": "code",
   "execution_count": 30,
   "id": "bd11186c",
   "metadata": {},
   "outputs": [
    {
     "data": {
      "text/plain": [
       "(1, 9)"
      ]
     },
     "execution_count": 30,
     "metadata": {},
     "output_type": "execute_result"
    }
   ],
   "source": [
    "data = [1,2,3,4,5,6,7,8,9]\n",
    "min(data), max(data)"
   ]
  },
  {
   "cell_type": "code",
   "execution_count": 33,
   "id": "356e5c73",
   "metadata": {},
   "outputs": [],
   "source": [
    "data = [1,2,3,4,5,6,7,8,9]\n",
    "def  min_max(data):\n",
    "    min_val = min(data)\n",
    "    max_val = max(data)\n",
    "    \n",
    "    return(min_val,max_val)"
   ]
  },
  {
   "cell_type": "code",
   "execution_count": 34,
   "id": "15744e2d",
   "metadata": {},
   "outputs": [
    {
     "data": {
      "text/plain": [
       "(1, 9)"
      ]
     },
     "execution_count": 34,
     "metadata": {},
     "output_type": "execute_result"
    }
   ],
   "source": [
    "min_max(data)"
   ]
  },
  {
   "cell_type": "code",
   "execution_count": 35,
   "id": "53dce8c3",
   "metadata": {},
   "outputs": [],
   "source": [
    "def rangef(data):\n",
    "    min_val = min(data)\n",
    "    max_val = max(data)\n",
    "    \n",
    "    return (min_val - max_val)"
   ]
  },
  {
   "cell_type": "code",
   "execution_count": 37,
   "id": "eecd1376",
   "metadata": {},
   "outputs": [
    {
     "data": {
      "text/plain": [
       "-8"
      ]
     },
     "execution_count": 37,
     "metadata": {},
     "output_type": "execute_result"
    }
   ],
   "source": [
    "rangef(data)"
   ]
  },
  {
   "cell_type": "code",
   "execution_count": 43,
   "id": "95aebaf7",
   "metadata": {},
   "outputs": [
    {
     "name": "stdout",
     "output_type": "stream",
     "text": [
      "2.0\n"
     ]
    }
   ],
   "source": [
    "a = np.array([1,2,3,4,5])\n",
    "q1 = np.percentile(a, 25)\n",
    "print (q1)"
   ]
  },
  {
   "cell_type": "code",
   "execution_count": 44,
   "id": "4dd262b6",
   "metadata": {},
   "outputs": [
    {
     "name": "stdout",
     "output_type": "stream",
     "text": [
      "3.0\n"
     ]
    }
   ],
   "source": [
    "a = np.array([1,2,3,4,5])\n",
    "q2 = np.percentile(a, 50)\n",
    "print (q2)"
   ]
  },
  {
   "cell_type": "code",
   "execution_count": 45,
   "id": "55fceeea",
   "metadata": {},
   "outputs": [
    {
     "name": "stdout",
     "output_type": "stream",
     "text": [
      "4.0\n"
     ]
    }
   ],
   "source": [
    "a = np.array([1,2,3,4,5])\n",
    "q3 = np.percentile(a, 75)\n",
    "print (q3)"
   ]
  },
  {
   "cell_type": "markdown",
   "id": "d544cb42",
   "metadata": {},
   "source": [
    "# Inter quartile range "
   ]
  },
  {
   "cell_type": "code",
   "execution_count": 47,
   "id": "421ae990",
   "metadata": {},
   "outputs": [
    {
     "data": {
      "text/plain": [
       "2.0"
      ]
     },
     "execution_count": 47,
     "metadata": {},
     "output_type": "execute_result"
    }
   ],
   "source": [
    "IQ = q3 - q1\n",
    "IQ"
   ]
  },
  {
   "cell_type": "markdown",
   "id": "267ac5bf",
   "metadata": {},
   "source": [
    "# Deviation (Population,Sample,standard)"
   ]
  },
  {
   "cell_type": "code",
   "execution_count": 49,
   "id": "aa19e626",
   "metadata": {},
   "outputs": [
    {
     "data": {
      "text/plain": [
       "262.78147892965876"
      ]
     },
     "execution_count": 49,
     "metadata": {},
     "output_type": "execute_result"
    }
   ],
   "source": [
    "np.var(x)"
   ]
  },
  {
   "cell_type": "code",
   "execution_count": 50,
   "id": "030a100b",
   "metadata": {},
   "outputs": [
    {
     "data": {
      "text/plain": [
       "16.210536046955966"
      ]
     },
     "execution_count": 50,
     "metadata": {},
     "output_type": "execute_result"
    }
   ],
   "source": [
    "import statistics \n",
    "statistics.pstdev(x)"
   ]
  },
  {
   "cell_type": "code",
   "execution_count": 51,
   "id": "202dfa7b",
   "metadata": {},
   "outputs": [
    {
     "data": {
      "text/plain": [
       "16.31411880088133"
      ]
     },
     "execution_count": 51,
     "metadata": {},
     "output_type": "execute_result"
    }
   ],
   "source": [
    "statistics.stdev(x)"
   ]
  },
  {
   "cell_type": "code",
   "execution_count": 52,
   "id": "985fcbdc",
   "metadata": {},
   "outputs": [
    {
     "data": {
      "text/plain": [
       "16.210536046955966"
      ]
     },
     "execution_count": 52,
     "metadata": {},
     "output_type": "execute_result"
    }
   ],
   "source": [
    "np.std(x)"
   ]
  },
  {
   "cell_type": "markdown",
   "id": "3f4f8f9d",
   "metadata": {},
   "source": [
    "# Skewness "
   ]
  },
  {
   "cell_type": "code",
   "execution_count": 53,
   "id": "d2648328",
   "metadata": {},
   "outputs": [],
   "source": [
    "from scipy.stats import skew "
   ]
  },
  {
   "cell_type": "code",
   "execution_count": 54,
   "id": "75652841",
   "metadata": {},
   "outputs": [
    {
     "data": {
      "text/plain": [
       "0.10226407464884266"
      ]
     },
     "execution_count": 54,
     "metadata": {},
     "output_type": "execute_result"
    }
   ],
   "source": [
    "skew(x)"
   ]
  },
  {
   "cell_type": "markdown",
   "id": "9b55552b",
   "metadata": {},
   "source": [
    "# Box plot"
   ]
  },
  {
   "cell_type": "code",
   "execution_count": 55,
   "id": "41037a5e",
   "metadata": {},
   "outputs": [],
   "source": [
    "from matplotlib import pyplot as plt "
   ]
  },
  {
   "cell_type": "code",
   "execution_count": 59,
   "id": "b58966e2",
   "metadata": {},
   "outputs": [
    {
     "data": {
      "image/png": "[encoded data removed]",
      "text/plain": [
       "<Figure size 640x480 with 1 Axes>"
      ]
     },
     "metadata": {},
     "output_type": "display_data"
    }
   ],
   "source": [
    "plt.boxplot(x, sym='*')\n",
    "plt.show()"
   ]
  },
  {
   "cell_type": "code",
   "execution_count": 60,
   "id": "02a42aef",
   "metadata": {},
   "outputs": [
    {
     "data": {
      "image/png": "[encoded data removed]",
      "text/plain": [
       "<Figure size 640x480 with 1 Axes>"
      ]
     },
     "metadata": {},
     "output_type": "display_data"
    }
   ],
   "source": [
    "plt.boxplot(x, sym='*', vert=False)\n",
    "plt.show()"
   ]
  },
  {
   "cell_type": "code",
   "execution_count": null,
   "id": "8e56352a",
   "metadata": {},
   "outputs": [],
   "source": []
  }
 ],
 "metadata": {
  "kernelspec": {
   "display_name": "Python 3 (ipykernel)",
   "language": "python",
   "name": "python3"
  },
  "language_info": {
   "codemirror_mode": {
    "name": "ipython",
    "version": 3
   },
   "file_extension": ".py",
   "mimetype": "text/x-python",
   "name": "python",
   "nbconvert_exporter": "python",
   "pygments_lexer": "ipython3",
   "version": "3.11.5"
  }
 },
 "nbformat": 4,
 "nbformat_minor": 5
}
